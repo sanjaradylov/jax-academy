{
 "cells": [
  {
   "cell_type": "markdown",
   "id": "a323dd31-9c07-4a3a-80c9-83a82fbcf629",
   "metadata": {
    "editable": true,
    "slideshow": {
     "slide_type": "slide"
    },
    "tags": []
   },
   "source": [
    "# Jax 101\n",
    "\n",
    "Здесь представлен черновик для начала работы с библиотекой\n",
    "[`jax`](https://jax.readthedocs.io/en/latest/index.html)."
   ]
  },
  {
   "cell_type": "markdown",
   "id": "0d1040c8-ced1-41d7-a7a0-0b5e8398fe0e",
   "metadata": {
    "editable": true,
    "slideshow": {
     "slide_type": "subslide"
    },
    "tags": []
   },
   "source": [
    "* Предназначена для работы с многомерными массивами.\n",
    "* API [`jax.numpy`](https://jax.readthedocs.io/en/latest/jax.numpy.html) соответствует библиотеке [`numpy`](https://numpy.org/).\n",
    "* API [`jax.scipy`](https://jax.readthedocs.io/en/latest/jax.numpy.html) соответствует библиотеке [`scipy`](https://scipy.org/).\n",
    "* Реализует *autodiff*, *jit*-компиляцию, различные функции преобразования и многое другое!"
   ]
  },
  {
   "cell_type": "code",
   "execution_count": 1,
   "id": "14235295-2e28-4314-8eed-8bc0dfaf809c",
   "metadata": {
    "editable": true,
    "slideshow": {
     "slide_type": "skip"
    },
    "tags": []
   },
   "outputs": [],
   "source": [
    "running_from_colab = False\n",
    "if running_from_colab:\n",
    "    !pip install matplotlib~=3.8.0\n",
    "    !pip install jax[cpu]~=0.4.19\n",
    "    !pip install flax~=0.7.4\n",
    "    !pip install clu~=0.0.10\n",
    "    !pip install tensorflow>=2.13.0\n",
    "    !pip install tensorflow_datasets>=4.9.3"
   ]
  },
  {
   "cell_type": "markdown",
   "id": "cf212e6b-77a4-47a1-8a07-559e912aaa53",
   "metadata": {
    "editable": true,
    "slideshow": {
     "slide_type": "slide"
    },
    "tags": []
   },
   "source": [
    "## Немного о тензорах\n",
    "\n",
    "`Array`$-$объект, представляющий собой $k$-мерный массив, $k \\geq 0$.\n",
    "\n",
    "$k = 0$ $-$ это *скаляр* (e.g., коэффициент регуляризации)."
   ]
  },
  {
   "cell_type": "code",
   "execution_count": 2,
   "id": "5d41f601-42c7-4a30-a8d2-7b0489cf609b",
   "metadata": {
    "editable": true,
    "slideshow": {
     "slide_type": "skip"
    },
    "tags": []
   },
   "outputs": [],
   "source": [
    "import jax\n",
    "from jax import numpy as jnp"
   ]
  },
  {
   "cell_type": "code",
   "execution_count": 3,
   "id": "56d59ab9-c153-4bd6-9340-32d4a0eb9fa9",
   "metadata": {
    "editable": true,
    "slideshow": {
     "slide_type": "fragment"
    },
    "tags": []
   },
   "outputs": [
    {
     "name": "stderr",
     "output_type": "stream",
     "text": [
      "An NVIDIA GPU may be present on this machine, but a CUDA-enabled jaxlib is not installed. Falling back to cpu.\n"
     ]
    },
    {
     "data": {
      "text/plain": [
       "(Array(2.71828, dtype=float32, weak_type=True), ())"
      ]
     },
     "execution_count": 3,
     "metadata": {},
     "output_type": "execute_result"
    }
   ],
   "source": [
    "x = jnp.array(2.71828)\n",
    "x, x.shape"
   ]
  },
  {
   "cell_type": "markdown",
   "id": "8f5c444c-e7e1-407f-a687-1d06ef605e98",
   "metadata": {
    "editable": true,
    "slideshow": {
     "slide_type": "subslide"
    },
    "tags": []
   },
   "source": [
    "$k = 1$: *вектор* $\\mathbf{y} = [y_1, y_2, \\ldots, y_d]^T$, $d \\geq 1$\n",
    "(e.g., параметры перцептрона)."
   ]
  },
  {
   "cell_type": "code",
   "execution_count": 4,
   "id": "a00e7d75-6b81-4435-984c-400e5801a2aa",
   "metadata": {
    "editable": true,
    "slideshow": {
     "slide_type": "fragment"
    },
    "tags": []
   },
   "outputs": [
    {
     "data": {
      "text/plain": [
       "(Array([0, 1, 2, 3], dtype=int32), (4,))"
      ]
     },
     "execution_count": 4,
     "metadata": {},
     "output_type": "execute_result"
    }
   ],
   "source": [
    "y = jnp.arange(4, dtype=jnp.int32)\n",
    "y, y.shape"
   ]
  },
  {
   "cell_type": "markdown",
   "id": "671de8c2-1c44-400f-8f79-eae0c82e4e17",
   "metadata": {
    "editable": true,
    "slideshow": {
     "slide_type": "subslide"
    },
    "tags": []
   },
   "source": [
    "$k = 2$: *матрица* $\\mathbf{Z} = (z_{ij})$, $1 \\leq i \\leq n$, $1 \\leq j \\leq m$\n",
    "(e.g., чёрно-белое изображение)."
   ]
  },
  {
   "cell_type": "code",
   "execution_count": 5,
   "id": "8d7c00f9-9815-401b-87f1-f11c2a475c7a",
   "metadata": {
    "editable": true,
    "slideshow": {
     "slide_type": "fragment"
    },
    "tags": []
   },
   "outputs": [
    {
     "data": {
      "text/plain": [
       "(Array([[1., 0., 0.],\n",
       "        [0., 1., 0.],\n",
       "        [0., 0., 1.]], dtype=float32),\n",
       " (3, 3))"
      ]
     },
     "execution_count": 5,
     "metadata": {},
     "output_type": "execute_result"
    }
   ],
   "source": [
    "Z = jnp.eye(3)\n",
    "Z, Z.shape"
   ]
  },
  {
   "cell_type": "markdown",
   "id": "7b2ff94f-e37f-4bb9-89ad-43e0fc7021b6",
   "metadata": {
    "editable": true,
    "slideshow": {
     "slide_type": "subslide"
    },
    "tags": []
   },
   "source": [
    "$k \\geq 3$: *тензор* (неформально) (e.g., коллекция чёрно-белых изображений)."
   ]
  },
  {
   "cell_type": "code",
   "execution_count": 6,
   "id": "18453781-9d36-46f9-a506-9b1239b9a082",
   "metadata": {
    "editable": true,
    "slideshow": {
     "slide_type": "fragment"
    },
    "tags": []
   },
   "outputs": [
    {
     "data": {
      "text/plain": [
       "(Array([[[ 0,  1,  2,  3],\n",
       "         [ 4,  5,  6,  7],\n",
       "         [ 8,  9, 10, 11]],\n",
       " \n",
       "        [[12, 13, 14, 15],\n",
       "         [16, 17, 18, 19],\n",
       "         [20, 21, 22, 23]]], dtype=int32),\n",
       " (2, 3, 4))"
      ]
     },
     "execution_count": 6,
     "metadata": {},
     "output_type": "execute_result"
    }
   ],
   "source": [
    "T = jnp.arange(24).reshape((2, 3, 4))\n",
    "T, T.shape"
   ]
  },
  {
   "cell_type": "markdown",
   "id": "82255947-2aac-4f0d-96ea-84a4e63a3a43",
   "metadata": {
    "editable": true,
    "slideshow": {
     "slide_type": "slide"
    },
    "tags": []
   },
   "source": [
    "## Унарные операции\n",
    "\n",
    "Пусть $f: \\mathbb{R} \\rightarrow \\mathbb{R}$ и $\\mathbf{x}$ - $k$-мерный массив.\n",
    "Тогда $f(\\mathbf{x}) = [f(x_i)]$ для каждого элемента $x_i \\in \\mathbf{x}$.\n",
    "E.g., применение функций активации."
   ]
  },
  {
   "cell_type": "code",
   "execution_count": 7,
   "id": "ccef1115-d397-4f6d-8579-18a0cbe924cf",
   "metadata": {
    "editable": true,
    "slideshow": {
     "slide_type": "subslide"
    },
    "tags": []
   },
   "outputs": [
    {
     "data": {
      "text/plain": [
       "Array([[[ 1.       ,  2.       ,  3.       ,  4.       ],\n",
       "        [ 5.       ,  6.       ,  7.0000005,  8.       ],\n",
       "        [ 9.       , 10.       , 11.000001 , 12.       ]],\n",
       "\n",
       "       [[12.999999 , 14.000001 , 15.000001 , 16.       ],\n",
       "        [17.       , 18.       , 19.       , 20.       ],\n",
       "        [21.000002 , 22.000002 , 23.       , 24.       ]]], dtype=float32)"
      ]
     },
     "execution_count": 7,
     "metadata": {},
     "output_type": "execute_result"
    }
   ],
   "source": [
    "jnp.exp(jnp.log1p(T))"
   ]
  },
  {
   "cell_type": "markdown",
   "id": "1905f359-d660-4bbd-9b55-7d9e02047de3",
   "metadata": {
    "editable": true,
    "slideshow": {
     "slide_type": "slide"
    },
    "tags": []
   },
   "source": [
    "## Псевдослучайные числа\n",
    "\n",
    "Первое отличие `jax` от `numpy`: ключ `key` для поглощения случайными функциями\n",
    "вместо использования глобальной `random.seed`."
   ]
  },
  {
   "cell_type": "code",
   "execution_count": 8,
   "id": "4ee94a80-9a48-4ff4-8991-5439ce270b65",
   "metadata": {
    "editable": true,
    "slideshow": {
     "slide_type": "subslide"
    },
    "tags": []
   },
   "outputs": [
    {
     "data": {
      "text/plain": [
       "Array([[[ 0.36753944, -0.9082042 , -2.0064416 ,  0.16056262],\n",
       "        [ 0.13233443, -1.305435  , -0.4055677 , -1.7935358 ],\n",
       "        [-1.3566552 ,  0.80958456, -0.37977964,  0.08442838]],\n",
       "\n",
       "       [[-1.895686  , -0.20993415,  0.20252009,  1.3713387 ],\n",
       "        [-0.60032403, -1.0367845 ,  1.5410699 ,  0.05245331],\n",
       "        [ 0.03026433,  1.3176132 ,  0.61566246,  1.698919  ]]],      dtype=float32)"
      ]
     },
     "execution_count": 8,
     "metadata": {},
     "output_type": "execute_result"
    }
   ],
   "source": [
    "key = jax.random.key(0)\n",
    "shape = (2, 3, 4)\n",
    "X = jax.random.normal(key, shape)\n",
    "X"
   ]
  },
  {
   "cell_type": "code",
   "execution_count": 9,
   "id": "3c7154e3-744a-4520-95c5-99c89df446a5",
   "metadata": {
    "editable": true,
    "slideshow": {
     "slide_type": "fragment"
    },
    "tags": []
   },
   "outputs": [
    {
     "data": {
      "text/plain": [
       "Array([[[ True,  True,  True,  True],\n",
       "        [ True,  True,  True,  True],\n",
       "        [ True,  True,  True,  True]],\n",
       "\n",
       "       [[ True,  True,  True,  True],\n",
       "        [ True,  True,  True,  True],\n",
       "        [ True,  True,  True,  True]]], dtype=bool)"
      ]
     },
     "execution_count": 9,
     "metadata": {},
     "output_type": "execute_result"
    }
   ],
   "source": [
    "X == jax.random.normal(key, shape)"
   ]
  },
  {
   "cell_type": "markdown",
   "id": "6a97aaec-4fea-429b-9081-8cb39f477b51",
   "metadata": {
    "editable": true,
    "slideshow": {
     "slide_type": "subslide"
    },
    "tags": []
   },
   "source": [
    "Использование одной и той же `key` возвращает один и тот же результат!\n",
    "\n",
    "`key` можно разбить на 2 и более ключа и сгенерировать другие значения."
   ]
  },
  {
   "cell_type": "code",
   "execution_count": 10,
   "id": "cab23660-88e1-4f87-bfef-32571d38780e",
   "metadata": {
    "editable": true,
    "slideshow": {
     "slide_type": "fragment"
    },
    "tags": []
   },
   "outputs": [
    {
     "data": {
      "text/plain": [
       "Array([[[-2.003785  , -0.25242862,  0.670781  , -0.24748416],\n",
       "        [-0.8836176 , -0.338196  ,  1.0410497 , -0.47741464],\n",
       "        [ 0.39571118,  0.838507  , -0.90660936, -0.81707186]],\n",
       "\n",
       "       [[ 0.43643975,  1.4724442 , -2.19621   , -1.6121409 ],\n",
       "        [ 1.296409  ,  1.8319693 , -0.9455707 , -0.34352237],\n",
       "        [ 0.05459858,  0.33989352, -0.74641544, -0.00806977]]],      dtype=float32)"
      ]
     },
     "execution_count": 10,
     "metadata": {},
     "output_type": "execute_result"
    }
   ],
   "source": [
    "key, subkey = jax.random.split(key)\n",
    "Y = jax.random.normal(subkey, shape)\n",
    "Y"
   ]
  },
  {
   "cell_type": "markdown",
   "id": "86d78c25-e6d8-484d-a664-9f0971124de7",
   "metadata": {
    "editable": true,
    "slideshow": {
     "slide_type": "slide"
    },
    "tags": []
   },
   "source": [
    "## Бинарные операции\n",
    "\n",
    "Пусть $\\circ: \\mathbb{R} \\rightarrow \\mathbb{R}$, $\\mathbf{X}, \\mathbf{Y}$\n",
    "$-$ многомерные массивы одинакового размера.\n",
    "Тогда $\\mathbf{X} \\circ \\mathbf{Y} = [x_i \\circ y_i]$ для всех $i$.\n",
    "E.g., сложение векторного и позиционного представлений токенов."
   ]
  },
  {
   "cell_type": "code",
   "execution_count": 11,
   "id": "de02f742-d01d-4637-a8d0-67fb1e86293e",
   "metadata": {
    "editable": true,
    "slideshow": {
     "slide_type": "fragment"
    },
    "tags": []
   },
   "outputs": [
    {
     "data": {
      "text/plain": [
       "Array([[[-1.6362455 , -1.1606328 , -1.3356606 , -0.08692154],\n",
       "        [-0.75128317, -1.643631  ,  0.635482  , -2.2709506 ],\n",
       "        [-0.96094406,  1.6480916 , -1.286389  , -0.7326435 ]],\n",
       "\n",
       "       [[-1.4592463 ,  1.2625101 , -1.9936898 , -0.24080217],\n",
       "        [ 0.696085  ,  0.79518473,  0.59549916, -0.29106906],\n",
       "        [ 0.0848629 ,  1.6575067 , -0.13075298,  1.6908493 ]]],      dtype=float32)"
      ]
     },
     "execution_count": 11,
     "metadata": {},
     "output_type": "execute_result"
    }
   ],
   "source": [
    "X + Y  # X - Y, X * Y, X / Y, X // Y, X ** Y, etc."
   ]
  },
  {
   "cell_type": "markdown",
   "id": "aa5bffcf-c9a5-4937-81f8-02a41a07582e",
   "metadata": {
    "editable": true,
    "slideshow": {
     "slide_type": "slide"
    },
    "tags": []
   },
   "source": [
    "## Векторизация\n",
    "\n",
    "Представление операций на элементах массива без явных *for*-циклов.\n",
    "Как правило в разы быстрее, чем циклы. См. также предыдущие примеры."
   ]
  },
  {
   "cell_type": "code",
   "execution_count": 12,
   "id": "882cc6fb-0fbb-4150-b865-1e3f7ddd59ec",
   "metadata": {
    "editable": true,
    "slideshow": {
     "slide_type": "fragment"
    },
    "tags": []
   },
   "outputs": [
    {
     "name": "stdout",
     "output_type": "stream",
     "text": [
      "1.11 s ± 39.3 ms per loop (mean ± std. dev. of 7 runs, 1 loop each)\n",
      "6.32 µs ± 411 ns per loop (mean ± std. dev. of 7 runs, 100,000 loops each)\n"
     ]
    }
   ],
   "source": [
    "x = jnp.linspace(0, 1, 5_000)\n",
    "%timeit jnp.array([x[i] * jnp.pi for i in range(x.size)]).block_until_ready()\n",
    "%timeit (jnp.pi * x).block_until_ready()"
   ]
  },
  {
   "cell_type": "markdown",
   "id": "ed84f08c-11e5-4cff-aec3-b019adec4891",
   "metadata": {
    "editable": true,
    "slideshow": {
     "slide_type": "slide"
    },
    "tags": []
   },
   "source": [
    "## Оси\n",
    "\n",
    "Строка, столбец, один канал изображений, etc.\n",
    "E.g., суммирование потерь по оси прецедентов, дропаут по осям прецедентов и токенов, etc."
   ]
  },
  {
   "cell_type": "code",
   "execution_count": 13,
   "id": "2657f367-b9ec-4f94-b6a2-3ef2acf41a37",
   "metadata": {
    "editable": true,
    "slideshow": {
     "slide_type": "fragment"
    },
    "tags": []
   },
   "outputs": [
    {
     "data": {
      "text/plain": [
       "(Array([[0, 1, 2, 3, 4],\n",
       "        [5, 6, 7, 8, 9]], dtype=int32),\n",
       " Array([ 5,  7,  9, 11, 13], dtype=int32),\n",
       " Array([10, 35], dtype=int32))"
      ]
     },
     "execution_count": 13,
     "metadata": {},
     "output_type": "execute_result"
    }
   ],
   "source": [
    "x = jnp.arange(10).reshape(2, 5)\n",
    "x, x.sum(axis=0), x.sum(axis=1)"
   ]
  },
  {
   "cell_type": "code",
   "execution_count": 14,
   "id": "89b6dedb-613f-4c54-a2b2-131a1d952536",
   "metadata": {
    "editable": true,
    "slideshow": {
     "slide_type": "fragment"
    },
    "tags": []
   },
   "outputs": [
    {
     "data": {
      "text/plain": [
       "(Array([0, 1, 2, 3, 4, 5, 6, 7, 8, 9], dtype=int32), Array([45], dtype=int32))"
      ]
     },
     "execution_count": 14,
     "metadata": {},
     "output_type": "execute_result"
    }
   ],
   "source": [
    "ы = jnp.arange(10).reshape(-1, 10)\n",
    "ы.sum(axis=0), ы.sum(axis=1)"
   ]
  },
  {
   "cell_type": "markdown",
   "id": "ea48c4e6-e1e6-4b78-b12e-6a3497e561ff",
   "metadata": {
    "editable": true,
    "slideshow": {
     "slide_type": "slide"
    },
    "tags": []
   },
   "source": [
    "## Broadcasting\n",
    "\n",
    "Бинарная операция над массивами в случае, если размеры отличаются:\n",
    "1. Скопировать элементы одного из или обоих массивов по осям так, чтобы размеры стали одинаковыми.\n",
    "2. Затем выполнить бинарную операцию.\n",
    "\n",
    "![Broadcasting](https://numpy.org/doc/stable/_images/broadcasting_4.png)"
   ]
  },
  {
   "cell_type": "code",
   "execution_count": 15,
   "id": "03acf79f-c2e5-495f-86e2-da0e9a03853d",
   "metadata": {
    "editable": true,
    "slideshow": {
     "slide_type": "subslide"
    },
    "tags": []
   },
   "outputs": [
    {
     "data": {
      "text/plain": [
       "(Array([[0, 1, 2]], dtype=int32),\n",
       " Array([[0],\n",
       "        [1]], dtype=int32),\n",
       " Array([[0, 1, 2],\n",
       "        [1, 2, 3]], dtype=int32),\n",
       " Array([[0, 1],\n",
       "        [1, 2],\n",
       "        [2, 3]], dtype=int32))"
      ]
     },
     "execution_count": 15,
     "metadata": {},
     "output_type": "execute_result"
    }
   ],
   "source": [
    "x = jnp.arange(3).reshape((1, 3))\n",
    "y = jnp.arange(2).reshape((2, 1))\n",
    "x, y, x + y, x.T + y.T"
   ]
  },
  {
   "cell_type": "code",
   "execution_count": 16,
   "id": "84dacd0c-8e01-49e1-94eb-603a55afd387",
   "metadata": {
    "editable": true,
    "slideshow": {
     "slide_type": "subslide"
    },
    "tags": []
   },
   "outputs": [
    {
     "data": {
      "text/plain": [
       "(Array([[0.  , 3.14, 6.28]], dtype=float32, weak_type=True),\n",
       " Array([[2.71],\n",
       "        [3.71]], dtype=float32, weak_type=True))"
      ]
     },
     "execution_count": 16,
     "metadata": {},
     "output_type": "execute_result"
    }
   ],
   "source": [
    "x * 3.14, y + 2.71"
   ]
  },
  {
   "cell_type": "code",
   "execution_count": 17,
   "id": "e8b7c5b4-6742-4f40-943a-33a8d42ae8ec",
   "metadata": {
    "editable": true,
    "slideshow": {
     "slide_type": "subslide"
    },
    "tags": []
   },
   "outputs": [
    {
     "data": {
      "text/plain": [
       "Array([[[ 0,  2,  4,  6],\n",
       "        [ 8, 10, 12, 14],\n",
       "        [16, 18, 20, 22]],\n",
       "\n",
       "       [[12, 14, 16, 18],\n",
       "        [20, 22, 24, 26],\n",
       "        [28, 30, 32, 34]]], dtype=int32)"
      ]
     },
     "execution_count": 17,
     "metadata": {},
     "output_type": "execute_result"
    }
   ],
   "source": [
    "X = jnp.arange(24).reshape((2, 3, 4))\n",
    "Y = jnp.arange(12).reshape((3, 4))\n",
    "X + Y"
   ]
  },
  {
   "cell_type": "markdown",
   "id": "38670850-ded7-4009-b112-5aff99440299",
   "metadata": {
    "editable": true,
    "slideshow": {
     "slide_type": "slide"
    },
    "tags": []
   },
   "source": [
    "## Автоматическое дифференцирование\n",
    "\n",
    "### Немного про градиентный спуск\n",
    "\n",
    "Пусть $\\ell: \\mathbb{R}^d \\rightarrow \\mathbb{R}_+$ $-$ функция, которую необходимо\n",
    "минимизировать. Поскольку\n",
    "$$\n",
    "f(\\mathbf{x} + \\boldsymbol{\\epsilon}) \\approx f(\\mathbf{x}) + \\boldsymbol{\\epsilon}^T \\nabla_{\\mathbf{x}} f(\\mathbf{x}),\n",
    "$$\n",
    "где $\\nabla_{\\mathbf{x}} f(\\mathbf{x}) := [\\partial_{x_1}f(\\mathbf{x}), \\ldots, \\partial_{x_d}f(\\mathbf{x})]^T$ $-$ *градиент* функции $f$,\n",
    "или направление наискорейшего возрастания функции.\n",
    "Следовательно при $\\boldsymbol{\\epsilon} = -\\eta \\nabla_{\\mathbf{x}} f(\\mathbf{x}) $\n",
    "$$\n",
    "f(\\mathbf{x} + \\boldsymbol{\\epsilon}) \\lessapprox f(\\mathbf{x})\n",
    "$$\n",
    "и обновление параметров\n",
    "$$\n",
    "\\mathbf{x} \\leftarrow \\mathbf{x} - \\eta \\nabla_{\\mathbf{x}} f(\\mathbf{x})\n",
    "$$ позволит минимизировать $f$ за несколько итераций."
   ]
  },
  {
   "cell_type": "markdown",
   "id": "085457a7-2d60-4b52-b5da-2e7c83dd15ae",
   "metadata": {
    "editable": true,
    "slideshow": {
     "slide_type": "subslide"
    },
    "tags": []
   },
   "source": [
    "Таким образом, подсчёт градиента функции - один из важных шагов обучения модели. Но делать это \"вручную\"\n",
    "необязательно: *autodiff* (или *autograd*) позволяет строить направленный вычислительный граф с параметрами\n",
    "функции и выполнять дифференцирование сложной функции автоматически."
   ]
  },
  {
   "cell_type": "code",
   "execution_count": 18,
   "id": "74d193b7-5e65-4b81-bba7-3d88196c6727",
   "metadata": {
    "editable": true,
    "slideshow": {
     "slide_type": "fragment"
    },
    "tags": []
   },
   "outputs": [
    {
     "data": {
      "text/plain": [
       "Array([ True,  True,  True,  True], dtype=bool)"
      ]
     },
     "execution_count": 18,
     "metadata": {},
     "output_type": "execute_result"
    }
   ],
   "source": [
    "x = jnp.arange(4.0)\n",
    "y = lambda x: jnp.e * jnp.dot(x, x)\n",
    "jax.grad(y)(x) == 2 * jnp.e * x  # grad(dot(x, x)) = 2x"
   ]
  },
  {
   "cell_type": "markdown",
   "id": "8ba46144-59d3-47ad-b0f5-a890043c0285",
   "metadata": {
    "editable": true,
    "slideshow": {
     "slide_type": "subslide"
    },
    "tags": []
   },
   "source": [
    "**Вопрос**: что, если $f: \\mathbb{R}^d \\rightarrow \\mathbb{R}^n$ (e.g., потери для каждого из $n$ прецедентов внутри батча)?\n",
    "\n",
    "**Ответ**: мы, конечно же, можем посчитать *матрицу Якоби* (`jax.jacfwd`, `jax.jacrev`), но наиболее часто нам придётся\n",
    "считать градиент как раз при подсчёте **суммарной** потери, а суммирование по всем прецедентам даёт скаляр, а не вектор."
   ]
  },
  {
   "cell_type": "code",
   "execution_count": 19,
   "id": "c23ce7d5-0b56-4dad-b207-823e8554918b",
   "metadata": {
    "editable": true,
    "slideshow": {
     "slide_type": "fragment"
    },
    "tags": []
   },
   "outputs": [
    {
     "data": {
      "text/plain": [
       "(Array([[0., 0., 0., 0.],\n",
       "        [0., 2., 0., 0.],\n",
       "        [0., 0., 4., 0.],\n",
       "        [0., 0., 0., 6.]], dtype=float32),\n",
       " Array([0., 2., 4., 6.], dtype=float32))"
      ]
     },
     "execution_count": 19,
     "metadata": {},
     "output_type": "execute_result"
    }
   ],
   "source": [
    "x = jnp.arange(4.0)\n",
    "y = lambda x: x * x\n",
    "z = lambda x: y(x).sum(axis=0)\n",
    "jax.jacfwd(y)(x), jax.grad(z)(x)"
   ]
  },
  {
   "cell_type": "markdown",
   "id": "4b3253c4-f345-4193-a010-10e769913d64",
   "metadata": {
    "editable": true,
    "slideshow": {
     "slide_type": "subslide"
    },
    "tags": []
   },
   "source": [
    "**Вопрос**: можно ли \"убрать\" параметр из графа так, чтобы по нему производная не считалась?\n",
    "(e.g., скрытое состояние рекуррентной сети)\n",
    "\n",
    "**Ответ**: конечно! Воспользуемся `jax.lax.stop_gradient`:"
   ]
  },
  {
   "cell_type": "code",
   "execution_count": 20,
   "id": "c8c812dd-51bf-419b-8fe8-20d9703044a5",
   "metadata": {
    "editable": true,
    "slideshow": {
     "slide_type": "fragment"
    },
    "tags": []
   },
   "outputs": [
    {
     "data": {
      "text/plain": [
       "Array([ True,  True,  True,  True], dtype=bool)"
      ]
     },
     "execution_count": 20,
     "metadata": {},
     "output_type": "execute_result"
    }
   ],
   "source": [
    "x = jnp.arange(4.0)\n",
    "y = lambda x: x * x\n",
    "u = jax.lax.stop_gradient(y(x))\n",
    "z = lambda x: u * x\n",
    "t = lambda x: z(x).sum(axis=0)\n",
    "jax.grad(t)(x) == y(x)  # grad(detach(y(x)) * x) == y(x)"
   ]
  },
  {
   "cell_type": "markdown",
   "id": "b5154748-9e5a-4474-bf7c-6734e9bdefd3",
   "metadata": {
    "editable": true,
    "slideshow": {
     "slide_type": "slide"
    },
    "tags": []
   },
   "source": [
    "## JIT-компиляция\n",
    "\n",
    "Компиляция указанной JAX-совместимой функции just-in-time. Декоратор `jax.jit` компилирует\n",
    "функцию в run-time и сохраняет скомпилированный с помощью [`xla`](https://www.tensorflow.org/xla)\n",
    "код в кэш, что позволяет впоследствии выполнять функцию быстрее."
   ]
  },
  {
   "cell_type": "code",
   "execution_count": 21,
   "id": "6a1dbe55-cf9b-4a1e-a68c-e853808b518c",
   "metadata": {
    "editable": true,
    "slideshow": {
     "slide_type": "subslide"
    },
    "tags": []
   },
   "outputs": [
    {
     "name": "stdout",
     "output_type": "stream",
     "text": [
      "36.2 µs ± 4.26 µs per loop (mean ± std. dev. of 7 runs, 10,000 loops each)\n",
      "3.98 µs ± 405 ns per loop (mean ± std. dev. of 7 runs, 100,000 loops each)\n"
     ]
    }
   ],
   "source": [
    "def selu(x, alpha=1.67, lambda_=1.05):\n",
    "    return lambda_ * jnp.where(x > 0, x, alpha * jnp.exp(x) - alpha)\n",
    "\n",
    "selu_jit = jax.jit(selu)\n",
    "key = jax.random.key(0)\n",
    "x = jax.random.normal(key)\n",
    "selu_jit(x)\n",
    "\n",
    "%timeit selu(x).block_until_ready()\n",
    "%timeit selu_jit(x).block_until_ready()"
   ]
  },
  {
   "cell_type": "markdown",
   "id": "7455e2cc-6541-48de-b10b-b128c16af898",
   "metadata": {
    "editable": true,
    "slideshow": {
     "slide_type": "subslide"
    },
    "tags": []
   },
   "source": [
    "JIT-компилируемая функция должна быть детерминированной и не должна обладать побочными эффектами, $-$\n",
    "т.е. должна быть *чистой*. Иначе, результаты могут оказаться непредсказуемыми. Также наличие\n",
    "условий на входные данные при JIT-компиляции приведут к ошибке компиляции. Для обхода можно указывать\n",
    "на статические аргументы, а также менять условия на `jax.lax.cond`, если возможно."
   ]
  },
  {
   "cell_type": "markdown",
   "id": "8b5e45f1-2c88-43ed-b062-71eb4a241abb",
   "metadata": {
    "editable": true,
    "slideshow": {
     "slide_type": "subslide"
    },
    "tags": []
   },
   "source": [
    "## VMAP-векторизация\n",
    "\n",
    "Автоматическая векторизация функций по указанным осям с помощью `jax.vmap`\n",
    "(e.g., расширение dot-product attention на несколько прецедентов). Как правило,\n",
    "работает быстрее, чем for-цикл по каждому прецеденту."
   ]
  },
  {
   "cell_type": "code",
   "execution_count": 22,
   "id": "a1e95f69-d6e3-444c-b5e6-8ba8a1e97eda",
   "metadata": {
    "editable": true,
    "slideshow": {
     "slide_type": "fragment"
    },
    "tags": []
   },
   "outputs": [
    {
     "data": {
      "text/plain": [
       "Array(90.12491, dtype=float32)"
      ]
     },
     "execution_count": 22,
     "metadata": {},
     "output_type": "execute_result"
    }
   ],
   "source": [
    "def scaled_dot(x):\n",
    "    return jnp.dot(x, x) / jnp.sqrt(x.shape[0])\n",
    "\n",
    "x = jnp.arange(10.0)\n",
    "scaled_dot(x)"
   ]
  },
  {
   "cell_type": "code",
   "execution_count": 23,
   "id": "ad59fc49-7125-4ac0-85f6-c34f3a342f41",
   "metadata": {
    "editable": true,
    "slideshow": {
     "slide_type": "subslide"
    },
    "tags": []
   },
   "outputs": [
    {
     "name": "stdout",
     "output_type": "stream",
     "text": [
      "44.3 ms ± 2.08 ms per loop (mean ± std. dev. of 7 runs, 1 loop each)\n",
      "857 µs ± 39.8 µs per loop (mean ± std. dev. of 7 runs, 1,000 loops each)\n"
     ]
    }
   ],
   "source": [
    "def batched_scaled_dot(x):  # Без векторизации, с помощью for-цикла.\n",
    "    return jnp.stack([scaled_dot(x) for x in X])\n",
    "\n",
    "vmap_scaled_dot = jax.vmap(scaled_dot)  # vmap-векторизация.\n",
    "\n",
    "X = jnp.arange(2048.0).reshape((-1, 4))  # Батч из векторов размера 4.\n",
    "\n",
    "%timeit batched_scaled_dot(X).block_until_ready()\n",
    "%timeit vmap_scaled_dot(X).block_until_ready()"
   ]
  }
 ],
 "metadata": {
  "kernelspec": {
   "display_name": "Python 3 (ipykernel)",
   "language": "python",
   "name": "python3"
  },
  "language_info": {
   "codemirror_mode": {
    "name": "ipython",
    "version": 3
   },
   "file_extension": ".py",
   "mimetype": "text/x-python",
   "name": "python",
   "nbconvert_exporter": "python",
   "pygments_lexer": "ipython3",
   "version": "3.10.13"
  }
 },
 "nbformat": 4,
 "nbformat_minor": 5
}
